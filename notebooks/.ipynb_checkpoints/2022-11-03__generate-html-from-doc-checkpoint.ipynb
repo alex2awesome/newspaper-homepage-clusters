{
 "cells": [
  {
   "cell_type": "code",
   "execution_count": 188,
   "id": "2d50b778",
   "metadata": {},
   "outputs": [],
   "source": [
    "from IPython.display import display, HTML\n",
    "import mammoth "
   ]
  },
  {
   "cell_type": "code",
   "execution_count": 337,
   "id": "365d16fd",
   "metadata": {},
   "outputs": [],
   "source": [
    "! mammoth '../app/docs/NewsEdits++ MTurk Instructions.docx' --output-dir=../app/assets/img\n",
    "with open(\"../app/assets/img/NewsEdits++ MTurk Instructions.html\", \"r\") as f:\n",
    "    html = f.read()"
   ]
  },
  {
   "cell_type": "code",
   "execution_count": 338,
   "id": "b359186f",
   "metadata": {
    "scrolled": true
   },
   "outputs": [
    {
     "data": {
      "text/plain": [
       "'<h2><a id=\"_idte41dc3sn2\"></a>Clarification</h2><h3><a id=\"_lugij7rod07d\"></a>Simplification</h3><h4><a id=\"_etafincirt1k\"></a>Definition:</h4><p>Reduce the complexity or breadth of discussion; may remove information </p><h4><a id=\"_2avejicwts4z\"></a>Example:</h4><p>http://localhost:5002/check_task?source=ap&amp;doc_id=12111&amp;v_x=0&amp;v_y=1</p><p><img src=\"1.png\" /></p><p>```Before the work began in early July, New York Gov. ||| Before the work began, New York Gov.```</p><h5><a id=\"_syt7kfizljc4\"></a>Explanation:</h5><p>“In early July” is removed because July has been mentioned in the previous sentence. Hence, it is being simplified for clarification.</p><h3><a id=\"_m06ux5bneekm\"></a>Define term</h3><h4><a id=\"_jro8iqba9xo2\"></a>Definition:</h4><p>The author provides a definition of a term that was not defined in the previous version.</p><h4><a id=\"_qbp63gbh9i77\"></a>Example:</h4><h5><a id=\"_kq0a9w91u3la\"></a>Explanation:</h5><h2><a id=\"_hqov7624hwxb\"></a>Copy Editing</h2><h3><a id=\"_n7jztjwd3nbe\"></a>Style Changes</h3><h4><a id=\"_8gx1g7dwh3gi\"></a>Definition: </h4><p>Anything edits done where no meaning is altered and the sentence is not greatly simplified.</p><h4><a id=\"_ffr8lkciirea\"></a>Example: </h4><p>Article Key: (\\'nyt\\', 1870033, 0, 1)</p><p><img src=\"2.png\" /></p><p>```The airline said Jane Garvey, the current chairwoman, would retire from the board in May as part of the leadership transition. ||| The airline said Jane Garvey, the chairwoman, would retire from the board in May as part of the leadership transition.```</p><h5><a id=\"_3scswzz3xx4o\"></a>Explanation:</h5><p>Here, `current` is removed in the next version. This edit does not alter the meaning of the original sentence or greatly simply the sentence. Hence, it’s a style change.</p><h3><a id=\"_683uslczmfwr\"></a>Syntax Correction</h3><h4><a id=\"_9lddithuyx71\"></a>Definition:</h4><p>Improve grammar, spelling, or punctuation.</p><h4><a id=\"_2f3jljovxgld\"></a>Example:</h4><p>http://localhost:5002/check_task?source=bbc&amp;doc_id=372407&amp;v_x=2&amp;v_y=3</p><p><img src=\"3.png\" /></p><p>```One eyewitness told BBC News: \\'\\'I came forward and I saw him on the back seat. It was definitely Prince Charles, no doubt about it. \\'\\'They tried to protect him but there was too many of them. ||| Another eyewitness told BBC News: “I came forward and I saw him on the back seat. It was definitely Prince Charles, no doubt about it. They tried to protect him but there was too many of them.” The car behind, an official royal Jaguar, also came under attack.```</p><h5><a id=\"_4cpiv7th7l9y\"></a>Explanation: </h5><p>Here, “They tried to protect him but there was too many of them.” should also be part of the quote.</p><h2><a id=\"_v6kxdgu973rx\"></a>Elaboration </h2><h3><a id=\"_bsywja4tcsb2\"></a>Background</h3><h4><a id=\"_1wgirgf6bvjr\"></a>Definition:</h4><p>Add background information </p><h4><a id=\"_aqayxf78hxpg\"></a>Example: </h4><p>http://localhost:5002/check_task?source=independent&amp;doc_id=976785&amp;v_x=0&amp;v_y=<strong>1<img src=\"4.png\" /></strong></p><p>```“Sousse sits on the Mediterranean Sea and is a popular tourist destination with fine sandy beaches and large hotel complexes.”  ||| “\\u200b\\u200bSousse sits on the Mediterranean Sea and is highly popular with British tourists, and is cited on holiday operator Thomson\\'s list of prime destinations for Britons in Tunisia.”```</p><h5><a id=\"_oqgr8g9g46co\"></a>Explanation:</h5><p>In this example, the author provides more background information about \\u200b\\u200bSousse.</p><h4><a id=\"_3po0f6r8jvxs\"></a>Example:</h4><p>http://localhost:5002/check_task?source=nyt&amp;doc_id=1870033&amp;v_x=0&amp;v_y=1</p><p><img src=\"5.png\" /></p><p>```|||Video of the incident, which captured the rough treatment of Dr. Dao being removed from the overbooked flight to make room for airline employees, went viral on social media. “The airline was harshly criticized for how it handled the crisis.”```</p><h5><a id=\"_j0ze7626s3rg\"></a>Explanation:</h5><p>The article is breaking news. These new edits provide more additional information about the event.</p><h3><a id=\"_j3swld6avetc\"></a>Analysis</h3><h4><a id=\"_e8qpupveajnv\"></a>Definition: </h4><p>The writer derives meaningful inferences from the presented information.</p><h4><a id=\"_5elkv0g885jh\"></a>Example:</h4><p>http://localhost:5002/check_task?source=independent&amp;doc_id=1502097&amp;v_x=1&amp;v_y=2</p><p><img src=\"6.png\" /></p><p>```||| As well as threatening the fragile agreement between the parties, the uncertainty also came ahead of crunch Brexit talks which hinge on progress being made on the Irish border and other key issues.```</p><h5><a id=\"_un7ocn1kun4s\"></a>Explanation:</h5><p>I am actually not so certain about this example.</p><h4><a id=\"_z03tclu1p3or\"></a>Example:</h4><p>http://localhost:5002/check_task?source=ap&amp;doc_id=459&amp;v_x=6&amp;v_y=7</p><p><img src=\"7.png\" /></p><p>```For the first five months of the fiscal year, the deficit - the gap between the government\\'s revenues and spending - came in at $349 billon, down from $351.3 billion a year earlier. ||| Through the first six months of this budget year, the deficit totals $526.9 billion, up 14.7 percent from last year\\'s six-month total of $459.4 billion.```</p><h5><a id=\"_25nk9himaixw\"></a>Explanation:</h5><p>Here, “up 14.7 percent” seems to be the analysis made by the journalist.</p><h2><a id=\"_vzlv7zdm7bg\"></a>Fact Update</h2><h3><a id=\"_al6td6hkxdly\"></a>Event Update</h3><h4><a id=\"_gwrnata29zxu\"></a>Definition:</h4><p>The edit involves an update to an event. Usually there are changes to verbs.</p><h4><a id=\"_7lo7spndh7f9\"></a>Example:</h4><p>http://localhost:5002/check_task?source=ap&amp;doc_id=9984&amp;v_x=0&amp;v_y=1</p><p><img src=\"8.png\" /></p><p>```Cooper says \\'\\'it was reasonable for Keller to believe deadly force was necessary to prevent serious bodily injury.\\'\\' Cooper says charges against Weigle will be determined once he recovers. ||| The Indianapolis Star reports (http://indy.st/2uMpdG0 ) that Johnson County Prosecutor Brad Cooper charged 59-year-old Jeffrey S. Weigle with criminal recklessness with a deadly weapon Wednesday.```</p><h5><a id=\"_kzvm2f6l47js\"></a>Explanation:</h5><p>In the original version, Weigle’s charges have not been determined. In the new version, the charge is determined </p><h4><a id=\"_d3ez6gsqm6gw\"></a>Example:</h4><p>http://localhost:5002/check_task?source=bbc&amp;doc_id=557714&amp;v_x=0&amp;v_y=1</p><p><img src=\"9.png\" /></p><p>```A state minister had said it is the worst flooding in the state since 1998. ||| A state minister said it was the worst flooding in the state since 1998.```</p><h5><a id=\"_61thokmmee3d\"></a>Explanation:</h5><p>The tense is changed.</p><h3><a id=\"_pjfn2zmx6cpf\"></a>Quote Update</h3><h4><a id=\"_mxthg9hkaem\"></a>Definition: </h4><p>There is an addition of quotes to the article. Question: what about deleting a quote?</p><h4><a id=\"_qwzokapevzf6\"></a>Example:</h4><p>http://localhost:5002/check_task?source=bbc&amp;doc_id=372407&amp;v_x=2&amp;v_y=3</p><p><img src=\"10.png\" /></p><p>```||| \\'\\'I said, \\'It\\'s Camilla\\'. I wasn\\'t trying to alert them.```</p><h5><a id=\"_chd2kwg65cgv\"></a>Explanation:</h5><p>A quote is added</p><h4><a id=\"_f6ld1aynrkyj\"></a>Example:</h4><p>http://localhost:5002/check_task?source=bbc&amp;doc_id=372407&amp;v_x=2&amp;v_y=3</p><p><img src=\"11.png\" /></p><p>```||| People started kicking the car,\\'\\' he said. He added that the prince remained calm, \\'\\'waving and giving the thumbs up\\'\\'.```</p><h5><a id=\"_rukgf63miyb6\"></a>Explanation:</h5><p>A quote is added</p><h3><a id=\"_gwxpexdqs2wh\"></a>Document Update</h3><h4><a id=\"_6cxj0hsvtw78\"></a>Definition:</h4><p>Any addition of information that does not fall into the category of quote update or event update.</p><h4><a id=\"_5r4aei26t1wo\"></a>Example:</h4><p>http://localhost:5002/check_task?source=ap&amp;doc_id=1129&amp;v_x=3&amp;v_y=4</p><p><img src=\"12.png\" /></p><p>```||| Germany has been critical of the Trump administration\\'s climate policy and escalating rhetoric on North Korea, while the U.S. has questioned Germany\\'s large trade surplus, among other issues.```</p><h5><a id=\"_suav87jcdp6t\"></a>Explanation:</h5><p>There is no update in event or quote in this sentence.</p><h4><a id=\"_opnq144jui2c\"></a>Example:</h4><p>http://localhost:5002/check_task?source=ap&amp;doc_id=767&amp;v_x=1&amp;v_y=2</p><p><img src=\"13.png\" /></p><p>```||| Astronauts and cosmonauts routinely take small items such as their children\\'s toys or CDs with them as reminders of home.```</p><h5><a id=\"_hrztvie356eg\"></a>Explanation:</h5><p>There is no update in event or quote in this sentence.</p><h2><a id=\"_hzie2z7xf324\"></a>Verification</h2><h3><a id=\"_c002imy0mcnv\"></a>Correction</h3><h4><a id=\"_6vc33e5ni587\"></a>Definition:</h4><p>There are factual errors in the original version. The new version corrects the error.</p><h4><a id=\"_8o2xjtdt3bd3\"></a>Example:</h4><p>http://localhost:5002/check_task?source=bbc&amp;doc_id=842813&amp;v_x=2&amp;v_y=3</p><p><img src=\"14.png\" /></p><p>```Fifteen people were arrested on suspicion of conspiracy to manage and control brothels after raids on homes in the Midlands and south of England on Tuesday and Wednesday. ||| Fifteen people were arrested on suspicion of conspiracy to manage and control brothels after raids on homes in the Midlands and south of England on Tuesday and Thursday.```</p><h5><a id=\"_uizym7ub88er\"></a>Explanation:</h5><p>The original version states “Tuesday and Wednesday”, which is corrected to “Tuesday and Thursday” in the next version.</p><h4><a id=\"_sqbal7qu4od\"></a>Example:</h4><p>http://localhost:5002/check_task?source=bbc&amp;doc_id=1095119&amp;v_x=2&amp;v_y=3</p><p><img src=\"15.png\" /></p><p>```A teacher has opened fire at an education department office in Saudi Arabia\\'s southern Jazan province, killing six colleagues, officials have said.```</p><h5><a id=\"_lj3mq9g02kse\"></a>Explanation:</h5><p>In the updated version, we see that we are not 100% sure the suspect is a teacher. Hence a `verification - correction` edit.</p><h3><a id=\"_xlwhy21wr3uh\"></a>Additional Sourcing</h3><h4><a id=\"_4df5hlkw8bo7\"></a>Definition:</h4><p>The new version includes new sources for additional information.</p><h2><a id=\"_4knh4dkjicfe\"></a>Fact Deletion</h2><h3><a id=\"_5orn2yb4zmqp\"></a>Deletion with addition involved</h3><h4><a id=\"_z9j1b7815qqr\"></a>Definition:</h4><p>The deletion is to make room for `addition` operations. The `addition` operations involves an update to a quote/event/document or elaboration.</p><h4><a id=\"_uk4wh18nb93p\"></a>Example:</h4><p>http://localhost:5002/check_task?source=ap&amp;doc_id=9984&amp;v_x=0&amp;v_y=1</p><p><img src=\"16.png\" /></p><p>```INDIANAPOLIS (AP) -- Authorities say an argument between two Indianapolis-area neighbors, including one riding a lawnmower, escalated into across-the-fence gunfire. |||```</p><h5><a id=\"_ul1wzkjn0rdu\"></a>Explanation:</h5><p>This sentence is deleted because the writer now has more information about the event (e.g. Weigle is charged)</p><h3><a id=\"_rsceb6ns8j3p\"></a>Deletion without addition involved</h3><h4><a id=\"_6yzkm5bqxa2u\"></a>Definition: </h4><p>The deletion is not to make room for an addition.</p><h4><a id=\"_w0bm66h99yly\"></a>Example:</h4><p>http://localhost:5002/check_task?source=independent&amp;doc_id=1502097&amp;v_x=1&amp;v_y=2</p><p><img src=\"17.png\" /></p><p>```The parties had met to hold last-minute talks to avoid a government collapse. |||```</p>'"
      ]
     },
     "execution_count": 338,
     "metadata": {},
     "output_type": "execute_result"
    }
   ],
   "source": [
    "html"
   ]
  },
  {
   "cell_type": "code",
   "execution_count": 339,
   "id": "cd4773a7",
   "metadata": {
    "scrolled": true
   },
   "outputs": [
    {
     "data": {
      "text/html": [
       "<h2><a id=\"_idte41dc3sn2\"></a>Clarification</h2><h3><a id=\"_lugij7rod07d\"></a>Simplification</h3><h4><a id=\"_etafincirt1k\"></a>Definition:</h4><p>Reduce the complexity or breadth of discussion; may remove information </p><h4><a id=\"_2avejicwts4z\"></a>Example:</h4><p>http://localhost:5002/check_task?source=ap&amp;doc_id=12111&amp;v_x=0&amp;v_y=1</p><p><img src=\"1.png\" /></p><p>```Before the work began in early July, New York Gov. ||| Before the work began, New York Gov.```</p><h5><a id=\"_syt7kfizljc4\"></a>Explanation:</h5><p>“In early July” is removed because July has been mentioned in the previous sentence. Hence, it is being simplified for clarification.</p><h3><a id=\"_m06ux5bneekm\"></a>Define term</h3><h4><a id=\"_jro8iqba9xo2\"></a>Definition:</h4><p>The author provides a definition of a term that was not defined in the previous version.</p><h4><a id=\"_qbp63gbh9i77\"></a>Example:</h4><h5><a id=\"_kq0a9w91u3la\"></a>Explanation:</h5><h2><a id=\"_hqov7624hwxb\"></a>Copy Editing</h2><h3><a id=\"_n7jztjwd3nbe\"></a>Style Changes</h3><h4><a id=\"_8gx1g7dwh3gi\"></a>Definition: </h4><p>Anything edits done where no meaning is altered and the sentence is not greatly simplified.</p><h4><a id=\"_ffr8lkciirea\"></a>Example: </h4><p>Article Key: ('nyt', 1870033, 0, 1)</p><p><img src=\"2.png\" /></p><p>```The airline said Jane Garvey, the current chairwoman, would retire from the board in May as part of the leadership transition. ||| The airline said Jane Garvey, the chairwoman, would retire from the board in May as part of the leadership transition.```</p><h5><a id=\"_3scswzz3xx4o\"></a>Explanation:</h5><p>Here, `current` is removed in the next version. This edit does not alter the meaning of the original sentence or greatly simply the sentence. Hence, it’s a style change.</p><h3><a id=\"_683uslczmfwr\"></a>Syntax Correction</h3><h4><a id=\"_9lddithuyx71\"></a>Definition:</h4><p>Improve grammar, spelling, or punctuation.</p><h4><a id=\"_2f3jljovxgld\"></a>Example:</h4><p>http://localhost:5002/check_task?source=bbc&amp;doc_id=372407&amp;v_x=2&amp;v_y=3</p><p><img src=\"3.png\" /></p><p>```One eyewitness told BBC News: ''I came forward and I saw him on the back seat. It was definitely Prince Charles, no doubt about it. ''They tried to protect him but there was too many of them. ||| Another eyewitness told BBC News: “I came forward and I saw him on the back seat. It was definitely Prince Charles, no doubt about it. They tried to protect him but there was too many of them.” The car behind, an official royal Jaguar, also came under attack.```</p><h5><a id=\"_4cpiv7th7l9y\"></a>Explanation: </h5><p>Here, “They tried to protect him but there was too many of them.” should also be part of the quote.</p><h2><a id=\"_v6kxdgu973rx\"></a>Elaboration </h2><h3><a id=\"_bsywja4tcsb2\"></a>Background</h3><h4><a id=\"_1wgirgf6bvjr\"></a>Definition:</h4><p>Add background information </p><h4><a id=\"_aqayxf78hxpg\"></a>Example: </h4><p>http://localhost:5002/check_task?source=independent&amp;doc_id=976785&amp;v_x=0&amp;v_y=<strong>1<img src=\"4.png\" /></strong></p><p>```“Sousse sits on the Mediterranean Sea and is a popular tourist destination with fine sandy beaches and large hotel complexes.”  ||| “​​Sousse sits on the Mediterranean Sea and is highly popular with British tourists, and is cited on holiday operator Thomson's list of prime destinations for Britons in Tunisia.”```</p><h5><a id=\"_oqgr8g9g46co\"></a>Explanation:</h5><p>In this example, the author provides more background information about ​​Sousse.</p><h4><a id=\"_3po0f6r8jvxs\"></a>Example:</h4><p>http://localhost:5002/check_task?source=nyt&amp;doc_id=1870033&amp;v_x=0&amp;v_y=1</p><p><img src=\"5.png\" /></p><p>```|||Video of the incident, which captured the rough treatment of Dr. Dao being removed from the overbooked flight to make room for airline employees, went viral on social media. “The airline was harshly criticized for how it handled the crisis.”```</p><h5><a id=\"_j0ze7626s3rg\"></a>Explanation:</h5><p>The article is breaking news. These new edits provide more additional information about the event.</p><h3><a id=\"_j3swld6avetc\"></a>Analysis</h3><h4><a id=\"_e8qpupveajnv\"></a>Definition: </h4><p>The writer derives meaningful inferences from the presented information.</p><h4><a id=\"_5elkv0g885jh\"></a>Example:</h4><p>http://localhost:5002/check_task?source=independent&amp;doc_id=1502097&amp;v_x=1&amp;v_y=2</p><p><img src=\"6.png\" /></p><p>```||| As well as threatening the fragile agreement between the parties, the uncertainty also came ahead of crunch Brexit talks which hinge on progress being made on the Irish border and other key issues.```</p><h5><a id=\"_un7ocn1kun4s\"></a>Explanation:</h5><p>I am actually not so certain about this example.</p><h4><a id=\"_z03tclu1p3or\"></a>Example:</h4><p>http://localhost:5002/check_task?source=ap&amp;doc_id=459&amp;v_x=6&amp;v_y=7</p><p><img src=\"7.png\" /></p><p>```For the first five months of the fiscal year, the deficit - the gap between the government's revenues and spending - came in at $349 billon, down from $351.3 billion a year earlier. ||| Through the first six months of this budget year, the deficit totals $526.9 billion, up 14.7 percent from last year's six-month total of $459.4 billion.```</p><h5><a id=\"_25nk9himaixw\"></a>Explanation:</h5><p>Here, “up 14.7 percent” seems to be the analysis made by the journalist.</p><h2><a id=\"_vzlv7zdm7bg\"></a>Fact Update</h2><h3><a id=\"_al6td6hkxdly\"></a>Event Update</h3><h4><a id=\"_gwrnata29zxu\"></a>Definition:</h4><p>The edit involves an update to an event. Usually there are changes to verbs.</p><h4><a id=\"_7lo7spndh7f9\"></a>Example:</h4><p>http://localhost:5002/check_task?source=ap&amp;doc_id=9984&amp;v_x=0&amp;v_y=1</p><p><img src=\"8.png\" /></p><p>```Cooper says ''it was reasonable for Keller to believe deadly force was necessary to prevent serious bodily injury.'' Cooper says charges against Weigle will be determined once he recovers. ||| The Indianapolis Star reports (http://indy.st/2uMpdG0 ) that Johnson County Prosecutor Brad Cooper charged 59-year-old Jeffrey S. Weigle with criminal recklessness with a deadly weapon Wednesday.```</p><h5><a id=\"_kzvm2f6l47js\"></a>Explanation:</h5><p>In the original version, Weigle’s charges have not been determined. In the new version, the charge is determined </p><h4><a id=\"_d3ez6gsqm6gw\"></a>Example:</h4><p>http://localhost:5002/check_task?source=bbc&amp;doc_id=557714&amp;v_x=0&amp;v_y=1</p><p><img src=\"9.png\" /></p><p>```A state minister had said it is the worst flooding in the state since 1998. ||| A state minister said it was the worst flooding in the state since 1998.```</p><h5><a id=\"_61thokmmee3d\"></a>Explanation:</h5><p>The tense is changed.</p><h3><a id=\"_pjfn2zmx6cpf\"></a>Quote Update</h3><h4><a id=\"_mxthg9hkaem\"></a>Definition: </h4><p>There is an addition of quotes to the article. Question: what about deleting a quote?</p><h4><a id=\"_qwzokapevzf6\"></a>Example:</h4><p>http://localhost:5002/check_task?source=bbc&amp;doc_id=372407&amp;v_x=2&amp;v_y=3</p><p><img src=\"10.png\" /></p><p>```||| ''I said, 'It's Camilla'. I wasn't trying to alert them.```</p><h5><a id=\"_chd2kwg65cgv\"></a>Explanation:</h5><p>A quote is added</p><h4><a id=\"_f6ld1aynrkyj\"></a>Example:</h4><p>http://localhost:5002/check_task?source=bbc&amp;doc_id=372407&amp;v_x=2&amp;v_y=3</p><p><img src=\"11.png\" /></p><p>```||| People started kicking the car,'' he said. He added that the prince remained calm, ''waving and giving the thumbs up''.```</p><h5><a id=\"_rukgf63miyb6\"></a>Explanation:</h5><p>A quote is added</p><h3><a id=\"_gwxpexdqs2wh\"></a>Document Update</h3><h4><a id=\"_6cxj0hsvtw78\"></a>Definition:</h4><p>Any addition of information that does not fall into the category of quote update or event update.</p><h4><a id=\"_5r4aei26t1wo\"></a>Example:</h4><p>http://localhost:5002/check_task?source=ap&amp;doc_id=1129&amp;v_x=3&amp;v_y=4</p><p><img src=\"12.png\" /></p><p>```||| Germany has been critical of the Trump administration's climate policy and escalating rhetoric on North Korea, while the U.S. has questioned Germany's large trade surplus, among other issues.```</p><h5><a id=\"_suav87jcdp6t\"></a>Explanation:</h5><p>There is no update in event or quote in this sentence.</p><h4><a id=\"_opnq144jui2c\"></a>Example:</h4><p>http://localhost:5002/check_task?source=ap&amp;doc_id=767&amp;v_x=1&amp;v_y=2</p><p><img src=\"13.png\" /></p><p>```||| Astronauts and cosmonauts routinely take small items such as their children's toys or CDs with them as reminders of home.```</p><h5><a id=\"_hrztvie356eg\"></a>Explanation:</h5><p>There is no update in event or quote in this sentence.</p><h2><a id=\"_hzie2z7xf324\"></a>Verification</h2><h3><a id=\"_c002imy0mcnv\"></a>Correction</h3><h4><a id=\"_6vc33e5ni587\"></a>Definition:</h4><p>There are factual errors in the original version. The new version corrects the error.</p><h4><a id=\"_8o2xjtdt3bd3\"></a>Example:</h4><p>http://localhost:5002/check_task?source=bbc&amp;doc_id=842813&amp;v_x=2&amp;v_y=3</p><p><img src=\"14.png\" /></p><p>```Fifteen people were arrested on suspicion of conspiracy to manage and control brothels after raids on homes in the Midlands and south of England on Tuesday and Wednesday. ||| Fifteen people were arrested on suspicion of conspiracy to manage and control brothels after raids on homes in the Midlands and south of England on Tuesday and Thursday.```</p><h5><a id=\"_uizym7ub88er\"></a>Explanation:</h5><p>The original version states “Tuesday and Wednesday”, which is corrected to “Tuesday and Thursday” in the next version.</p><h4><a id=\"_sqbal7qu4od\"></a>Example:</h4><p>http://localhost:5002/check_task?source=bbc&amp;doc_id=1095119&amp;v_x=2&amp;v_y=3</p><p><img src=\"15.png\" /></p><p>```A teacher has opened fire at an education department office in Saudi Arabia's southern Jazan province, killing six colleagues, officials have said.```</p><h5><a id=\"_lj3mq9g02kse\"></a>Explanation:</h5><p>In the updated version, we see that we are not 100% sure the suspect is a teacher. Hence a `verification - correction` edit.</p><h3><a id=\"_xlwhy21wr3uh\"></a>Additional Sourcing</h3><h4><a id=\"_4df5hlkw8bo7\"></a>Definition:</h4><p>The new version includes new sources for additional information.</p><h2><a id=\"_4knh4dkjicfe\"></a>Fact Deletion</h2><h3><a id=\"_5orn2yb4zmqp\"></a>Deletion with addition involved</h3><h4><a id=\"_z9j1b7815qqr\"></a>Definition:</h4><p>The deletion is to make room for `addition` operations. The `addition` operations involves an update to a quote/event/document or elaboration.</p><h4><a id=\"_uk4wh18nb93p\"></a>Example:</h4><p>http://localhost:5002/check_task?source=ap&amp;doc_id=9984&amp;v_x=0&amp;v_y=1</p><p><img src=\"16.png\" /></p><p>```INDIANAPOLIS (AP) -- Authorities say an argument between two Indianapolis-area neighbors, including one riding a lawnmower, escalated into across-the-fence gunfire. |||```</p><h5><a id=\"_ul1wzkjn0rdu\"></a>Explanation:</h5><p>This sentence is deleted because the writer now has more information about the event (e.g. Weigle is charged)</p><h3><a id=\"_rsceb6ns8j3p\"></a>Deletion without addition involved</h3><h4><a id=\"_6yzkm5bqxa2u\"></a>Definition: </h4><p>The deletion is not to make room for an addition.</p><h4><a id=\"_w0bm66h99yly\"></a>Example:</h4><p>http://localhost:5002/check_task?source=independent&amp;doc_id=1502097&amp;v_x=1&amp;v_y=2</p><p><img src=\"17.png\" /></p><p>```The parties had met to hold last-minute talks to avoid a government collapse. |||```</p>"
      ],
      "text/plain": [
       "<IPython.core.display.HTML object>"
      ]
     },
     "metadata": {},
     "output_type": "display_data"
    }
   ],
   "source": [
    "display(HTML(html))"
   ]
  },
  {
   "cell_type": "code",
   "execution_count": 340,
   "id": "db56e111",
   "metadata": {},
   "outputs": [],
   "source": [
    "from bs4 import BeautifulSoup as bs\n",
    "\n",
    "soup = bs(html)\n",
    "for a in soup.find_all('a'):\n",
    "    a.extract()\n",
    "\n",
    "prettyHTML = soup.prettify()"
   ]
  },
  {
   "cell_type": "code",
   "execution_count": 341,
   "id": "90062a1e",
   "metadata": {
    "scrolled": true
   },
   "outputs": [
    {
     "name": "stdout",
     "output_type": "stream",
     "text": [
      "<html>\n",
      " <body>\n",
      "  <h2>\n",
      "   Clarification\n",
      "  </h2>\n",
      "  <h3>\n",
      "   Simplification\n",
      "  </h3>\n",
      "  <h4>\n",
      "   Definition:\n",
      "  </h4>\n",
      "  <p>\n",
      "   Reduce the complexity or breadth of discussion; may remove information\n",
      "  </p>\n",
      "  <h4>\n",
      "   Example:\n",
      "  </h4>\n",
      "  <p>\n",
      "   http://localhost:5002/check_task?source=ap&amp;doc_id=12111&amp;v_x=0&amp;v_y=1\n",
      "  </p>\n",
      "  <p>\n",
      "   <img src=\"1.png\"/>\n",
      "  </p>\n",
      "  <p>\n",
      "   ```Before the work began in early July, New York Gov. ||| Before the work began, New York Gov.```\n",
      "  </p>\n",
      "  <h5>\n",
      "   Explanation:\n",
      "  </h5>\n",
      "  <p>\n",
      "   “In early July” is removed because July has been mentioned in the previous sentence. Hence, it is being simplified for clarification.\n",
      "  </p>\n",
      "  <h3>\n",
      "   Define term\n",
      "  </h3>\n",
      "  <h4>\n",
      "   Definition:\n",
      "  </h4>\n",
      "  <p>\n",
      "   The author provides a definition of a term that was not defined in the previous version.\n",
      "  </p>\n",
      "  <h4>\n",
      "   Example:\n",
      "  </h4>\n",
      "  <h5>\n",
      "   Explanation:\n",
      "  </h5>\n",
      "  <h2>\n",
      "   Copy Editing\n",
      "  </h2>\n",
      "  <h3>\n",
      "   Style Changes\n",
      "  </h3>\n",
      "  <h4>\n",
      "   Definition:\n",
      "  </h4>\n",
      "  <p>\n",
      "   Anything edits done where no meaning is altered and the sentence is not greatly simplified.\n",
      "  </p>\n",
      "  <h4>\n",
      "   Example:\n",
      "  </h4>\n",
      "  <p>\n",
      "   Article Key: ('nyt', 1870033, 0, 1)\n",
      "  </p>\n",
      "  <p>\n",
      "   <img src=\"2.png\"/>\n",
      "  </p>\n",
      "  <p>\n",
      "   ```The airline said Jane Garvey, the current chairwoman, would retire from the board in May as part of the leadership transition. ||| The airline said Jane Garvey, the chairwoman, would retire from the board in May as part of the leadership transition.```\n",
      "  </p>\n",
      "  <h5>\n",
      "   Explanation:\n",
      "  </h5>\n",
      "  <p>\n",
      "   Here, `current` is removed in the next version. This edit does not alter the meaning of the original sentence or greatly simply the sentence. Hence, it’s a style change.\n",
      "  </p>\n",
      "  <h3>\n",
      "   Syntax Correction\n",
      "  </h3>\n",
      "  <h4>\n",
      "   Definition:\n",
      "  </h4>\n",
      "  <p>\n",
      "   Improve grammar, spelling, or punctuation.\n",
      "  </p>\n",
      "  <h4>\n",
      "   Example:\n",
      "  </h4>\n",
      "  <p>\n",
      "   http://localhost:5002/check_task?source=bbc&amp;doc_id=372407&amp;v_x=2&amp;v_y=3\n",
      "  </p>\n",
      "  <p>\n",
      "   <img src=\"3.png\"/>\n",
      "  </p>\n",
      "  <p>\n",
      "   ```One eyewitness told BBC News: ''I came forward and I saw him on the back seat. It was definitely Prince Charles, no doubt about it. ''They tried to protect him but there was too many of them. ||| Another eyewitness told BBC News: “I came forward and I saw him on the back seat. It was definitely Prince Charles, no doubt about it. They tried to protect him but there was too many of them.” The car behind, an official royal Jaguar, also came under attack.```\n",
      "  </p>\n",
      "  <h5>\n",
      "   Explanation:\n",
      "  </h5>\n",
      "  <p>\n",
      "   Here, “They tried to protect him but there was too many of them.” should also be part of the quote.\n",
      "  </p>\n",
      "  <h2>\n",
      "   Elaboration\n",
      "  </h2>\n",
      "  <h3>\n",
      "   Background\n",
      "  </h3>\n",
      "  <h4>\n",
      "   Definition:\n",
      "  </h4>\n",
      "  <p>\n",
      "   Add background information\n",
      "  </p>\n",
      "  <h4>\n",
      "   Example:\n",
      "  </h4>\n",
      "  <p>\n",
      "   http://localhost:5002/check_task?source=independent&amp;doc_id=976785&amp;v_x=0&amp;v_y=\n",
      "   <strong>\n",
      "    1\n",
      "    <img src=\"4.png\"/>\n",
      "   </strong>\n",
      "  </p>\n",
      "  <p>\n",
      "   ```“Sousse sits on the Mediterranean Sea and is a popular tourist destination with fine sandy beaches and large hotel complexes.”  ||| “​​Sousse sits on the Mediterranean Sea and is highly popular with British tourists, and is cited on holiday operator Thomson's list of prime destinations for Britons in Tunisia.”```\n",
      "  </p>\n",
      "  <h5>\n",
      "   Explanation:\n",
      "  </h5>\n",
      "  <p>\n",
      "   In this example, the author provides more background information about ​​Sousse.\n",
      "  </p>\n",
      "  <h4>\n",
      "   Example:\n",
      "  </h4>\n",
      "  <p>\n",
      "   http://localhost:5002/check_task?source=nyt&amp;doc_id=1870033&amp;v_x=0&amp;v_y=1\n",
      "  </p>\n",
      "  <p>\n",
      "   <img src=\"5.png\"/>\n",
      "  </p>\n",
      "  <p>\n",
      "   ```|||Video of the incident, which captured the rough treatment of Dr. Dao being removed from the overbooked flight to make room for airline employees, went viral on social media. “The airline was harshly criticized for how it handled the crisis.”```\n",
      "  </p>\n",
      "  <h5>\n",
      "   Explanation:\n",
      "  </h5>\n",
      "  <p>\n",
      "   The article is breaking news. These new edits provide more additional information about the event.\n",
      "  </p>\n",
      "  <h3>\n",
      "   Analysis\n",
      "  </h3>\n",
      "  <h4>\n",
      "   Definition:\n",
      "  </h4>\n",
      "  <p>\n",
      "   The writer derives meaningful inferences from the presented information.\n",
      "  </p>\n",
      "  <h4>\n",
      "   Example:\n",
      "  </h4>\n",
      "  <p>\n",
      "   http://localhost:5002/check_task?source=independent&amp;doc_id=1502097&amp;v_x=1&amp;v_y=2\n",
      "  </p>\n",
      "  <p>\n",
      "   <img src=\"6.png\"/>\n",
      "  </p>\n",
      "  <p>\n",
      "   ```||| As well as threatening the fragile agreement between the parties, the uncertainty also came ahead of crunch Brexit talks which hinge on progress being made on the Irish border and other key issues.```\n",
      "  </p>\n",
      "  <h5>\n",
      "   Explanation:\n",
      "  </h5>\n",
      "  <p>\n",
      "   I am actually not so certain about this example.\n",
      "  </p>\n",
      "  <h4>\n",
      "   Example:\n",
      "  </h4>\n",
      "  <p>\n",
      "   http://localhost:5002/check_task?source=ap&amp;doc_id=459&amp;v_x=6&amp;v_y=7\n",
      "  </p>\n",
      "  <p>\n",
      "   <img src=\"7.png\"/>\n",
      "  </p>\n",
      "  <p>\n",
      "   ```For the first five months of the fiscal year, the deficit - the gap between the government's revenues and spending - came in at $349 billon, down from $351.3 billion a year earlier. ||| Through the first six months of this budget year, the deficit totals $526.9 billion, up 14.7 percent from last year's six-month total of $459.4 billion.```\n",
      "  </p>\n",
      "  <h5>\n",
      "   Explanation:\n",
      "  </h5>\n",
      "  <p>\n",
      "   Here, “up 14.7 percent” seems to be the analysis made by the journalist.\n",
      "  </p>\n",
      "  <h2>\n",
      "   Fact Update\n",
      "  </h2>\n",
      "  <h3>\n",
      "   Event Update\n",
      "  </h3>\n",
      "  <h4>\n",
      "   Definition:\n",
      "  </h4>\n",
      "  <p>\n",
      "   The edit involves an update to an event. Usually there are changes to verbs.\n",
      "  </p>\n",
      "  <h4>\n",
      "   Example:\n",
      "  </h4>\n",
      "  <p>\n",
      "   http://localhost:5002/check_task?source=ap&amp;doc_id=9984&amp;v_x=0&amp;v_y=1\n",
      "  </p>\n",
      "  <p>\n",
      "   <img src=\"8.png\"/>\n",
      "  </p>\n",
      "  <p>\n",
      "   ```Cooper says ''it was reasonable for Keller to believe deadly force was necessary to prevent serious bodily injury.'' Cooper says charges against Weigle will be determined once he recovers. ||| The Indianapolis Star reports (http://indy.st/2uMpdG0 ) that Johnson County Prosecutor Brad Cooper charged 59-year-old Jeffrey S. Weigle with criminal recklessness with a deadly weapon Wednesday.```\n",
      "  </p>\n",
      "  <h5>\n",
      "   Explanation:\n",
      "  </h5>\n",
      "  <p>\n",
      "   In the original version, Weigle’s charges have not been determined. In the new version, the charge is determined\n",
      "  </p>\n",
      "  <h4>\n",
      "   Example:\n",
      "  </h4>\n",
      "  <p>\n",
      "   http://localhost:5002/check_task?source=bbc&amp;doc_id=557714&amp;v_x=0&amp;v_y=1\n",
      "  </p>\n",
      "  <p>\n",
      "   <img src=\"9.png\"/>\n",
      "  </p>\n",
      "  <p>\n",
      "   ```A state minister had said it is the worst flooding in the state since 1998. ||| A state minister said it was the worst flooding in the state since 1998.```\n",
      "  </p>\n",
      "  <h5>\n",
      "   Explanation:\n",
      "  </h5>\n",
      "  <p>\n",
      "   The tense is changed.\n",
      "  </p>\n",
      "  <h3>\n",
      "   Quote Update\n",
      "  </h3>\n",
      "  <h4>\n",
      "   Definition:\n",
      "  </h4>\n",
      "  <p>\n",
      "   There is an addition of quotes to the article. Question: what about deleting a quote?\n",
      "  </p>\n",
      "  <h4>\n",
      "   Example:\n",
      "  </h4>\n",
      "  <p>\n",
      "   http://localhost:5002/check_task?source=bbc&amp;doc_id=372407&amp;v_x=2&amp;v_y=3\n",
      "  </p>\n",
      "  <p>\n",
      "   <img src=\"10.png\"/>\n",
      "  </p>\n",
      "  <p>\n",
      "   ```||| ''I said, 'It's Camilla'. I wasn't trying to alert them.```\n",
      "  </p>\n",
      "  <h5>\n",
      "   Explanation:\n",
      "  </h5>\n",
      "  <p>\n",
      "   A quote is added\n",
      "  </p>\n",
      "  <h4>\n",
      "   Example:\n",
      "  </h4>\n",
      "  <p>\n",
      "   http://localhost:5002/check_task?source=bbc&amp;doc_id=372407&amp;v_x=2&amp;v_y=3\n",
      "  </p>\n",
      "  <p>\n",
      "   <img src=\"11.png\"/>\n",
      "  </p>\n",
      "  <p>\n",
      "   ```||| People started kicking the car,'' he said. He added that the prince remained calm, ''waving and giving the thumbs up''.```\n",
      "  </p>\n",
      "  <h5>\n",
      "   Explanation:\n",
      "  </h5>\n",
      "  <p>\n",
      "   A quote is added\n",
      "  </p>\n",
      "  <h3>\n",
      "   Document Update\n",
      "  </h3>\n",
      "  <h4>\n",
      "   Definition:\n",
      "  </h4>\n",
      "  <p>\n",
      "   Any addition of information that does not fall into the category of quote update or event update.\n",
      "  </p>\n",
      "  <h4>\n",
      "   Example:\n",
      "  </h4>\n",
      "  <p>\n",
      "   http://localhost:5002/check_task?source=ap&amp;doc_id=1129&amp;v_x=3&amp;v_y=4\n",
      "  </p>\n",
      "  <p>\n",
      "   <img src=\"12.png\"/>\n",
      "  </p>\n",
      "  <p>\n",
      "   ```||| Germany has been critical of the Trump administration's climate policy and escalating rhetoric on North Korea, while the U.S. has questioned Germany's large trade surplus, among other issues.```\n",
      "  </p>\n",
      "  <h5>\n",
      "   Explanation:\n",
      "  </h5>\n",
      "  <p>\n",
      "   There is no update in event or quote in this sentence.\n",
      "  </p>\n",
      "  <h4>\n",
      "   Example:\n",
      "  </h4>\n",
      "  <p>\n",
      "   http://localhost:5002/check_task?source=ap&amp;doc_id=767&amp;v_x=1&amp;v_y=2\n",
      "  </p>\n",
      "  <p>\n",
      "   <img src=\"13.png\"/>\n",
      "  </p>\n",
      "  <p>\n",
      "   ```||| Astronauts and cosmonauts routinely take small items such as their children's toys or CDs with them as reminders of home.```\n",
      "  </p>\n",
      "  <h5>\n",
      "   Explanation:\n",
      "  </h5>\n",
      "  <p>\n",
      "   There is no update in event or quote in this sentence.\n",
      "  </p>\n",
      "  <h2>\n",
      "   Verification\n",
      "  </h2>\n",
      "  <h3>\n",
      "   Correction\n",
      "  </h3>\n",
      "  <h4>\n",
      "   Definition:\n",
      "  </h4>\n",
      "  <p>\n",
      "   There are factual errors in the original version. The new version corrects the error.\n",
      "  </p>\n",
      "  <h4>\n",
      "   Example:\n",
      "  </h4>\n",
      "  <p>\n",
      "   http://localhost:5002/check_task?source=bbc&amp;doc_id=842813&amp;v_x=2&amp;v_y=3\n",
      "  </p>\n",
      "  <p>\n",
      "   <img src=\"14.png\"/>\n",
      "  </p>\n",
      "  <p>\n",
      "   ```Fifteen people were arrested on suspicion of conspiracy to manage and control brothels after raids on homes in the Midlands and south of England on Tuesday and Wednesday. ||| Fifteen people were arrested on suspicion of conspiracy to manage and control brothels after raids on homes in the Midlands and south of England on Tuesday and Thursday.```\n",
      "  </p>\n",
      "  <h5>\n",
      "   Explanation:\n",
      "  </h5>\n",
      "  <p>\n",
      "   The original version states “Tuesday and Wednesday”, which is corrected to “Tuesday and Thursday” in the next version.\n",
      "  </p>\n",
      "  <h4>\n",
      "   Example:\n",
      "  </h4>\n",
      "  <p>\n",
      "   http://localhost:5002/check_task?source=bbc&amp;doc_id=1095119&amp;v_x=2&amp;v_y=3\n",
      "  </p>\n",
      "  <p>\n",
      "   <img src=\"15.png\"/>\n",
      "  </p>\n",
      "  <p>\n",
      "   ```A teacher has opened fire at an education department office in Saudi Arabia's southern Jazan province, killing six colleagues, officials have said.```\n",
      "  </p>\n",
      "  <h5>\n",
      "   Explanation:\n",
      "  </h5>\n",
      "  <p>\n",
      "   In the updated version, we see that we are not 100% sure the suspect is a teacher. Hence a `verification - correction` edit.\n",
      "  </p>\n",
      "  <h3>\n",
      "   Additional Sourcing\n",
      "  </h3>\n",
      "  <h4>\n",
      "   Definition:\n",
      "  </h4>\n",
      "  <p>\n",
      "   The new version includes new sources for additional information.\n",
      "  </p>\n",
      "  <h2>\n",
      "   Fact Deletion\n",
      "  <\n"
     ]
    }
   ],
   "source": [
    "print(prettyHTML[:10000])"
   ]
  },
  {
   "cell_type": "code",
   "execution_count": 342,
   "id": "9385a7d4",
   "metadata": {},
   "outputs": [],
   "source": [
    "elems = []\n",
    "for x in soup.body.children:\n",
    "    if not isinstance(x, Tag):\n",
    "        continue\n",
    "\n",
    "    if ('localhost' in x.get_text()):\n",
    "        continue \n",
    "        \n",
    "    elems.append(x)"
   ]
  },
  {
   "cell_type": "code",
   "execution_count": 343,
   "id": "b47ca0b3",
   "metadata": {},
   "outputs": [
    {
     "data": {
      "text/plain": [
       "[<h2>Clarification</h2>,\n",
       " <h3>Simplification</h3>,\n",
       " <h4>Definition:</h4>,\n",
       " <p>Reduce the complexity or breadth of discussion; may remove information </p>,\n",
       " <h4>Example:</h4>,\n",
       " <p><img src=\"1.png\"/></p>,\n",
       " <p>```Before the work began in early July, New York Gov. ||| Before the work began, New York Gov.```</p>,\n",
       " <h5>Explanation:</h5>,\n",
       " <p>“In early July” is removed because July has been mentioned in the previous sentence. Hence, it is being simplified for clarification.</p>,\n",
       " <h3>Define term</h3>]"
      ]
     },
     "execution_count": 343,
     "metadata": {},
     "output_type": "execute_result"
    }
   ],
   "source": [
    "elems[:10]"
   ]
  },
  {
   "cell_type": "code",
   "execution_count": 344,
   "id": "e56cf9e2",
   "metadata": {},
   "outputs": [],
   "source": [
    "from bs4 import BeautifulSoup\n",
    "import re"
   ]
  },
  {
   "cell_type": "code",
   "execution_count": 345,
   "id": "578a6fa4",
   "metadata": {},
   "outputs": [],
   "source": [
    "class Switch():\n",
    "    def __init__(self, categories=[]):\n",
    "        self.switch = {}\n",
    "        self.categories = categories\n",
    "        for i in self.categories:\n",
    "            self.switch[i] = False\n",
    "    \n",
    "    def toggle(self, i):\n",
    "        for j in self.categories:\n",
    "            self.switch[j] = False\n",
    "        self.switch[i] = True\n",
    "    \n",
    "    def get_on(self):\n",
    "        for k, v in self.switch.items():\n",
    "            if v == True:\n",
    "                return k\n",
    "        return False\n",
    "    \n",
    "    def get_level_in(self):\n",
    "        key = self.get_on()\n",
    "        if key:\n",
    "            return int(re.search('\\d', key)[0])"
   ]
  },
  {
   "cell_type": "code",
   "execution_count": 346,
   "id": "d5cfa64c",
   "metadata": {},
   "outputs": [],
   "source": [
    "! mkdir -p ../app/assets/img"
   ]
  },
  {
   "cell_type": "code",
   "execution_count": 395,
   "id": "1d580e81",
   "metadata": {},
   "outputs": [],
   "source": [
    "import uuid"
   ]
  },
  {
   "cell_type": "code",
   "execution_count": 347,
   "id": "99d4000c",
   "metadata": {},
   "outputs": [],
   "source": [
    "import uuid\n",
    "\n",
    "class InstructionsHandler():\n",
    "    def __init__(self):\n",
    "        self.new_soup = BeautifulSoup()\n",
    "        self.img_count = 0\n",
    "        self.switch = Switch(categories=['in_h2', 'in_h3', 'in_h4', 'in_h5'])\n",
    "        self.elem_dict = {\n",
    "            'h2_div': None,\n",
    "            'h3_div': None,\n",
    "            'h4_div': None,\n",
    "            'h5_div': None,\n",
    "            'card_body_div': None            \n",
    "            'card_body_content_div': None\n",
    "        }\n",
    "\n",
    "    def create_div_of_same_type(self, elem, class_name=None, **kwargs):\n",
    "        div = self.new_soup.new_tag('div')\n",
    "        if class_name is not None:\n",
    "            div.attrs['class'] = class_name\n",
    "        div.append(elem)\n",
    "        return div\n",
    "\n",
    "    def create_second_level_header_card(elem, link_id=None):\n",
    "        if link_id is None:\n",
    "            link_id = str(uuid.uuid1())\n",
    "\n",
    "        self.elem_dict['h3_div'] = self.new_soup.new_tag('div')\n",
    "        self.elem_dict['h3_div'].attrs['class'] = \"second-level-category card\"\n",
    "\n",
    "        card_header_div = self.new_soup.new_tag('div')\n",
    "        card_header_div.attrs['class'] = \"card-header\"\n",
    "\n",
    "        button_header = self.new_soup.new_tag('button')\n",
    "        button_header.attrs['class'] = 'btn btn-link collapsed'\n",
    "        button_header.attrs['data-bs-toggle'] = 'collapse'\n",
    "        button_header.attrs['type'] = 'button'\n",
    "        button_header.attrs['href'] = '#' + link_id\n",
    "        button_header.attrs['aria-expanded'] = \"false\"\n",
    "\n",
    "        button_header.append(elem)\n",
    "        card_header_div.append(button_header)\n",
    "        self.elem_dict['h3_div'].append(card_header_div)\n",
    "\n",
    "        self.elem_dict['card_body_div'] = self.new_soup.new_tag('div')\n",
    "        self.elem_dict['card_body_div'].attrs['id'] = link_id\n",
    "        self.elem_dict['card_body_div'].attrs['class'] = 'collapse'\n",
    "        self.elem_dict['card_body_div'].attrs['data-parent'] = '#accordion'\n",
    "\n",
    "        self.elem_dict['card_body_content_div'] = self.new_soup.new_tag('div')\n",
    "        self.elem_dict['card_body_content_div'].attrs['class'] = 'card-body'\n",
    "        return \n",
    "    \n",
    "    def _handle_rollup(self, level_in, level_to_stop=2):\n",
    "        for i in range(level_in, level_to_stop, -1):\n",
    "            if i == 5:\n",
    "                self.elem_dict['h4_div'].append(self.elem_dict['h5_div'])\n",
    "            if i == 4: \n",
    "                self.elem_dict['card_body_content_div'].append(self.elem_dict['h4_div'])\n",
    "            if i == 3:\n",
    "                self.elem_dict['card_body_div'].append(self.elem_dict['card_body_content_div'])\n",
    "                self.elem_dict['h3_div'].append(self.elem_dict['card_body_div'])\n",
    "        \n",
    "        \n",
    "    def generate(self, elems)\n",
    "        #   The card output div has to be of the format:\n",
    "        #     <div class=\"top-level-category\">\n",
    "        #         <h2>Clarification</h2>\n",
    "        #         <div class=\"second-level-category card\">\n",
    "        #             <div class=\"card-header\">\n",
    "        #                 <button class=\"btn btn-link collapsed\" data-bs-toggle=\"collapse\" type=\"button\" href=\"#test\" aria-expanded=\"false\" aria-controls=\"collapseFour\">\n",
    "        #                     <h3> Title </h3>\n",
    "        #                 </button> </div>\n",
    "        #             <div id=\"test\" class=\"collapse\" data-parent=\"#accordion\"> \n",
    "        #                 <div class=\"card-body\">\n",
    "        #                     <div class=\"definition\"><h4>Definition</h4><p>...</p></div>\n",
    "        #                     <div class=\"example\"><h4>Example</h4><div class=\"example-block\"><p>...</p></div></div>\n",
    "        #                     <div class=\"explanation\"><h5>Explanation</h5><p>...</p></div>\n",
    "        #                 </div>\n",
    "        #             </div>\n",
    "        #         </div>\n",
    "        #    </div>\n",
    "    \n",
    "        for elem in elems:\n",
    "            if elem.name == 'h2':\n",
    "                level_in = self.switch.get_level_in()\n",
    "                if level_in is not None:\n",
    "                    self._handle_rollup(level_in)\n",
    "                self.elem_dict['h2_div'] = create_div_of_same_type(elem, new_soup, 'top-level-category')\n",
    "                self.switch.toggle('in_h2')\n",
    "\n",
    "            elif elem.name == 'h3':\n",
    "                level_in = self.switch.get_level_in()\n",
    "                # end the card, wrap it all up\n",
    "                if level_in >= 3: \n",
    "                    self._handle_rollup(level_in)\n",
    "\n",
    "                self.elem_dict['h3_div'] = self.create_div_of_same_type(elem, new_soup)\n",
    "                self.switch.toggle('in_h3')\n",
    "\n",
    "            elif elem.name == 'h4':\n",
    "                level_in = self.switch.get_level_in()\n",
    "                if level_in >= 4:\n",
    "                    self._handle_rollup(level_in, level_to_stop=3)\n",
    "\n",
    "                class_name = elem.text.replace(':', '').lower()\n",
    "                h4_div = self.create_div_of_same_type(elem, class_name)\n",
    "                self.switch.toggle('in_h4')\n",
    "\n",
    "            # child-most elements\n",
    "            elif elem.name == 'h5':\n",
    "                h5_div = self.create_div_of_same_type(elem, 'explanation')\n",
    "                self.switch.toggle('in_h5')\n",
    "\n",
    "            elif '```' in elem.get_text():\n",
    "                example_block_div = self.create_div_of_same_type(elem, 'example-block')\n",
    "                self.elem_dict['h4_div'].append(example_block_div)\n",
    "\n",
    "            elif elem.find('img') is not None:\n",
    "                img_div = self.create_div_of_same_type(elem, 'example-image hidden')\n",
    "                self.elem_dict['h4_div'].append(img_div)\n",
    "\n",
    "            else:\n",
    "                level_in = self.switch.get_level_in()\n",
    "                self.elem_dict[f'h{level_in}_div'].append(elem)\n",
    "\n",
    "        new_soup.append(h2_div)"
   ]
  },
  {
   "cell_type": "code",
   "execution_count": null,
   "id": "928017db",
   "metadata": {},
   "outputs": [],
   "source": []
  },
  {
   "cell_type": "code",
   "execution_count": null,
   "id": "668bdb6d",
   "metadata": {},
   "outputs": [],
   "source": []
  },
  {
   "cell_type": "code",
   "execution_count": null,
   "id": "ce31d222",
   "metadata": {},
   "outputs": [],
   "source": []
  },
  {
   "cell_type": "markdown",
   "id": "f2f90671",
   "metadata": {},
   "source": [
    "# Create a Nested Dict that can be inpreted by Javascript"
   ]
  },
  {
   "cell_type": "code",
   "execution_count": 355,
   "id": "ec278001",
   "metadata": {},
   "outputs": [],
   "source": [
    "from collections import defaultdict\n",
    "from copy import deepcopy"
   ]
  },
  {
   "cell_type": "code",
   "execution_count": 380,
   "id": "205915ed",
   "metadata": {},
   "outputs": [],
   "source": [
    "def create_dict_of_same_type(elem, class_name=None, attrs=None):\n",
    "    div = {\n",
    "        'type': 'div',\n",
    "        'children': []\n",
    "    }\n",
    "    if class_name is not None:\n",
    "        div['class'] = class_name\n",
    "    elem_dict = {'type': elem.name, 'content': elem.get_text()}\n",
    "    if attrs is not None:\n",
    "        elem_dict.update(attrs)\n",
    "    div['content'] = elem_dict\n",
    "    return div\n",
    "    \n",
    "# elements\n",
    "switch = Switch(categories=['in_h2', 'in_h3', 'in_h4', 'in_h5'])\n",
    "output_dict = []\n",
    "temp_elem_dict = defaultdict(lambda : {'children': []})\n",
    "for elem in elems:\n",
    "    if elem.name == 'h2':\n",
    "        level_in = switch.get_level_in()\n",
    "        if level_in is not None:\n",
    "            for i in list(range(level_in, 2, -1)):\n",
    "                temp_elem_dict[f'h{i-1}_div']['children'].append(deepcopy(temp_elem_dict[f'h{i}_div']))\n",
    "            output_dict.append(deepcopy(temp_elem_dict['h2_div']))\n",
    "        temp_elem_dict['h2_div'] = create_dict_of_same_type(elem, 'top-level-category')\n",
    "        switch.toggle('in_h2')\n",
    "    \n",
    "    ### convert this into a card?\n",
    "    elif elem.name == 'h3':\n",
    "        level_in = switch.get_level_in()\n",
    "        if level_in >= 3:\n",
    "            for i in list(range(level_in, 2, -1)):\n",
    "                temp_elem_dict[f'h{i-1}_div']['children'].append(deepcopy(temp_elem_dict[f'h{i}_div']))\n",
    "            \n",
    "        temp_elem_dict['h3_div'] = create_dict_of_same_type(elem, 'second-level-category')\n",
    "        switch.toggle('in_h3')\n",
    "        \n",
    "    elif elem.name == 'h4':\n",
    "        level_in = switch.get_level_in()\n",
    "        if level_in >= 4:\n",
    "            for i in list(range(level_in, 3, -1)):\n",
    "                temp_elem_dict[f'h{i-1}_div']['children'].append(deepcopy(temp_elem_dict[f'h{i}_div']))\n",
    "\n",
    "        class_name = elem.text.replace(':', '').lower()\n",
    "        temp_elem_dict['h4_div'] = create_dict_of_same_type(elem, class_name)\n",
    "        switch.toggle('in_h4')\n",
    "    \n",
    "    # child-most elements\n",
    "    elif elem.name == 'h5':\n",
    "        temp_elem_dict['h5_div'] = create_dict_of_same_type(elem, 'explanation')\n",
    "        switch.toggle('in_h5')\n",
    "        \n",
    "    elif '```' in elem.get_text():\n",
    "        example_block_div = create_dict_of_same_type(elem, 'example-block')\n",
    "        temp_elem_dict['h4_div']['children'].append(deepcopy(example_block_div))\n",
    "    \n",
    "    elif elem.find('img') is not None:\n",
    "        img = elem.find('img')\n",
    "        img_div = create_dict_of_same_type(img, 'example-image hidden', attrs=img.attrs)\n",
    "        temp_elem_dict['h4_div']['children'].append(deepcopy(img_div))\n",
    "    \n",
    "    else:\n",
    "        level_in = switch.get_level_in()\n",
    "        other_div = create_dict_of_same_type(elem)\n",
    "        temp_elem_dict[f'h{level_in}_div']['children'].append(other_div)\n",
    "        \n",
    "output_dict.append(temp_elem_dict['h2_div'])"
   ]
  },
  {
   "cell_type": "code",
   "execution_count": 383,
   "id": "e35f3599",
   "metadata": {},
   "outputs": [],
   "source": [
    "import json"
   ]
  },
  {
   "cell_type": "code",
   "execution_count": 386,
   "id": "b270e7cc",
   "metadata": {},
   "outputs": [
    {
     "name": "stdout",
     "output_type": "stream",
     "text": [
      "\u001b[34mimg\u001b[m\u001b[m/\r\n"
     ]
    }
   ],
   "source": [
    "ls ../app/assets/"
   ]
  },
  {
   "cell_type": "code",
   "execution_count": 387,
   "id": "6819e45c",
   "metadata": {},
   "outputs": [],
   "source": [
    "with open('../app/assets/instructions.json', 'w') as f:\n",
    "    json.dump(output_dict, f)"
   ]
  },
  {
   "cell_type": "code",
   "execution_count": 390,
   "id": "cb7f7023",
   "metadata": {
    "scrolled": true
   },
   "outputs": [
    {
     "data": {
      "text/plain": [
       "dict_keys(['type', 'children', 'class', 'content'])"
      ]
     },
     "execution_count": 390,
     "metadata": {},
     "output_type": "execute_result"
    }
   ],
   "source": [
    "output_dict[0].keys()"
   ]
  },
  {
   "cell_type": "code",
   "execution_count": 394,
   "id": "cd936753",
   "metadata": {},
   "outputs": [
    {
     "data": {
      "text/plain": [
       "{'type': 'div',\n",
       " 'children': [{'type': 'div',\n",
       "   'children': [{'type': 'div',\n",
       "     'children': [],\n",
       "     'content': {'type': 'p',\n",
       "      'content': 'Reduce the complexity or breadth of discussion; may remove information '}}],\n",
       "   'class': 'definition',\n",
       "   'content': {'type': 'h4', 'content': 'Definition:'}},\n",
       "  {'type': 'div',\n",
       "   'children': [{'type': 'div',\n",
       "     'children': [],\n",
       "     'class': 'example-image hidden',\n",
       "     'content': {'type': 'img', 'content': '', 'src': '1.png'}},\n",
       "    {'type': 'div',\n",
       "     'children': [],\n",
       "     'class': 'example-block',\n",
       "     'content': {'type': 'p',\n",
       "      'content': '```Before the work began in early July, New York Gov. ||| Before the work began, New York Gov.```'}},\n",
       "    {'type': 'div',\n",
       "     'children': [{'type': 'div',\n",
       "       'children': [],\n",
       "       'content': {'type': 'p',\n",
       "        'content': '“In early July” is removed because July has been mentioned in the previous sentence. Hence, it is being simplified for clarification.'}}],\n",
       "     'class': 'explanation',\n",
       "     'content': {'type': 'h5', 'content': 'Explanation:'}}],\n",
       "   'class': 'example',\n",
       "   'content': {'type': 'h4', 'content': 'Example:'}}],\n",
       " 'class': 'second-level-category',\n",
       " 'content': {'type': 'h3', 'content': 'Simplification'}}"
      ]
     },
     "execution_count": 394,
     "metadata": {},
     "output_type": "execute_result"
    }
   ],
   "source": [
    "output_dict[0]['children'][0]"
   ]
  },
  {
   "cell_type": "code",
   "execution_count": null,
   "id": "1b1c25bb",
   "metadata": {},
   "outputs": [],
   "source": []
  },
  {
   "cell_type": "code",
   "execution_count": null,
   "id": "8fd40235",
   "metadata": {},
   "outputs": [],
   "source": []
  },
  {
   "cell_type": "code",
   "execution_count": null,
   "id": "1851578f",
   "metadata": {},
   "outputs": [],
   "source": []
  },
  {
   "cell_type": "code",
   "execution_count": null,
   "id": "e2c941b4",
   "metadata": {},
   "outputs": [],
   "source": []
  },
  {
   "cell_type": "code",
   "execution_count": null,
   "id": "3a0271ee",
   "metadata": {},
   "outputs": [],
   "source": []
  },
  {
   "cell_type": "code",
   "execution_count": 205,
   "id": "d9f5756a",
   "metadata": {},
   "outputs": [
    {
     "data": {
      "text/plain": [
       "True"
      ]
     },
     "execution_count": 205,
     "metadata": {},
     "output_type": "execute_result"
    }
   ],
   "source": [
    "'```' in elems[:10][-4].get_text()"
   ]
  },
  {
   "cell_type": "code",
   "execution_count": 216,
   "id": "19998f91",
   "metadata": {},
   "outputs": [
    {
     "data": {
      "text/plain": [
       "<div class=\"example\"><h4>Example:</h4><div class=\"example\"><p>```The parties had met to hold last-minute talks to avoid a government collapse. |||```</p></div></div>"
      ]
     },
     "execution_count": 216,
     "metadata": {},
     "output_type": "execute_result"
    }
   ],
   "source": [
    "h4_div"
   ]
  },
  {
   "cell_type": "code",
   "execution_count": null,
   "id": "926e8a99",
   "metadata": {},
   "outputs": [],
   "source": []
  },
  {
   "cell_type": "code",
   "execution_count": null,
   "id": "f91a1786",
   "metadata": {},
   "outputs": [],
   "source": []
  },
  {
   "cell_type": "code",
   "execution_count": 138,
   "id": "a5914099",
   "metadata": {},
   "outputs": [],
   "source": [
    "t = elems[0]"
   ]
  },
  {
   "cell_type": "code",
   "execution_count": 139,
   "id": "86db2061",
   "metadata": {},
   "outputs": [
    {
     "data": {
      "text/plain": [
       "'h3'"
      ]
     },
     "execution_count": 139,
     "metadata": {},
     "output_type": "execute_result"
    }
   ],
   "source": [
    "t.name"
   ]
  },
  {
   "cell_type": "code",
   "execution_count": null,
   "id": "c895ed39",
   "metadata": {},
   "outputs": [],
   "source": []
  },
  {
   "cell_type": "code",
   "execution_count": null,
   "id": "18d9858c",
   "metadata": {},
   "outputs": [],
   "source": []
  },
  {
   "cell_type": "code",
   "execution_count": 99,
   "id": "5e027667",
   "metadata": {},
   "outputs": [
    {
     "data": {
      "text/plain": [
       "'Simplification'"
      ]
     },
     "execution_count": 99,
     "metadata": {},
     "output_type": "execute_result"
    }
   ],
   "source": [
    "elems[0].get_text()"
   ]
  },
  {
   "cell_type": "code",
   "execution_count": 92,
   "id": "7fe87431",
   "metadata": {},
   "outputs": [
    {
     "data": {
      "text/plain": [
       "bs4.element.Tag"
      ]
     },
     "execution_count": 92,
     "metadata": {},
     "output_type": "execute_result"
    }
   ],
   "source": [
    "type(elems[1])"
   ]
  },
  {
   "cell_type": "code",
   "execution_count": 93,
   "id": "9dab2624",
   "metadata": {},
   "outputs": [],
   "source": [
    "from bs4.element import Tag, NavigableString"
   ]
  },
  {
   "cell_type": "code",
   "execution_count": null,
   "id": "29554384",
   "metadata": {},
   "outputs": [],
   "source": []
  },
  {
   "cell_type": "code",
   "execution_count": null,
   "id": "69cd6e84",
   "metadata": {},
   "outputs": [],
   "source": []
  },
  {
   "cell_type": "code",
   "execution_count": null,
   "id": "106bf091",
   "metadata": {},
   "outputs": [],
   "source": []
  },
  {
   "cell_type": "code",
   "execution_count": null,
   "id": "14ca0a3c",
   "metadata": {},
   "outputs": [],
   "source": []
  },
  {
   "cell_type": "code",
   "execution_count": null,
   "id": "4f24b728",
   "metadata": {},
   "outputs": [],
   "source": []
  },
  {
   "cell_type": "code",
   "execution_count": 77,
   "id": "5764b2c9",
   "metadata": {},
   "outputs": [
    {
     "data": {
      "text/plain": [
       "'```'"
      ]
     },
     "execution_count": 77,
     "metadata": {},
     "output_type": "execute_result"
    }
   ],
   "source": [
    "e"
   ]
  },
  {
   "cell_type": "code",
   "execution_count": null,
   "id": "71240808",
   "metadata": {},
   "outputs": [],
   "source": []
  },
  {
   "cell_type": "code",
   "execution_count": 61,
   "id": "5300c333",
   "metadata": {},
   "outputs": [
    {
     "data": {
      "text/plain": [
       "['Example:',\n",
       " 'Example:',\n",
       " 'Example:',\n",
       " 'Example:',\n",
       " 'Example:',\n",
       " 'Example:',\n",
       " 'Example:',\n",
       " 'Example:',\n",
       " 'Example:',\n",
       " 'Example:',\n",
       " 'Example:',\n",
       " 'Example:',\n",
       " 'Example:',\n",
       " 'Example:',\n",
       " 'Example:',\n",
       " 'Example:']"
      ]
     },
     "execution_count": 61,
     "metadata": {},
     "output_type": "execute_result"
    }
   ],
   "source": [
    "soup.find_all(text='Example:')"
   ]
  },
  {
   "cell_type": "code",
   "execution_count": null,
   "id": "7cdc789d",
   "metadata": {},
   "outputs": [],
   "source": []
  },
  {
   "cell_type": "code",
   "execution_count": null,
   "id": "9f7f2e52",
   "metadata": {},
   "outputs": [],
   "source": []
  },
  {
   "cell_type": "code",
   "execution_count": null,
   "id": "e78dbb85",
   "metadata": {},
   "outputs": [],
   "source": []
  },
  {
   "cell_type": "code",
   "execution_count": null,
   "id": "3dd99f2d",
   "metadata": {},
   "outputs": [],
   "source": []
  },
  {
   "cell_type": "code",
   "execution_count": null,
   "id": "7d82d426",
   "metadata": {},
   "outputs": [],
   "source": []
  },
  {
   "cell_type": "code",
   "execution_count": null,
   "id": "93549e74",
   "metadata": {},
   "outputs": [],
   "source": []
  },
  {
   "cell_type": "code",
   "execution_count": null,
   "id": "10295728",
   "metadata": {},
   "outputs": [],
   "source": []
  },
  {
   "cell_type": "code",
   "execution_count": null,
   "id": "0e221f4f",
   "metadata": {},
   "outputs": [],
   "source": []
  },
  {
   "cell_type": "code",
   "execution_count": null,
   "id": "b1c57e2a",
   "metadata": {},
   "outputs": [],
   "source": []
  },
  {
   "cell_type": "markdown",
   "id": "50ca62d0",
   "metadata": {},
   "source": [
    "# Read from ODT"
   ]
  },
  {
   "cell_type": "code",
   "execution_count": 13,
   "id": "53e837d1",
   "metadata": {},
   "outputs": [
    {
     "name": "stdout",
     "output_type": "stream",
     "text": [
      "\u001b[33mWARNING: Ignoring invalid distribution - (/Users/alex/opt/anaconda3/lib/python3.7/site-packages)\u001b[0m\u001b[33m\n",
      "\u001b[0m\u001b[33mWARNING: Ignoring invalid distribution -ensorboard-reducer (/Users/alex/opt/anaconda3/lib/python3.7/site-packages)\u001b[0m\u001b[33m\n",
      "\u001b[0mRequirement already satisfied: odfpy in /Users/alex/opt/anaconda3/lib/python3.7/site-packages (1.4.1)\n",
      "Requirement already satisfied: defusedxml in /Users/alex/opt/anaconda3/lib/python3.7/site-packages (from odfpy) (0.6.0)\n",
      "\u001b[33mWARNING: Ignoring invalid distribution - (/Users/alex/opt/anaconda3/lib/python3.7/site-packages)\u001b[0m\u001b[33m\n",
      "\u001b[0m\u001b[33mWARNING: Ignoring invalid distribution -ensorboard-reducer (/Users/alex/opt/anaconda3/lib/python3.7/site-packages)\u001b[0m\u001b[33m\n",
      "\u001b[0m\u001b[33mWARNING: Ignoring invalid distribution - (/Users/alex/opt/anaconda3/lib/python3.7/site-packages)\u001b[0m\u001b[33m\n",
      "\u001b[0m\u001b[33mWARNING: Ignoring invalid distribution -ensorboard-reducer (/Users/alex/opt/anaconda3/lib/python3.7/site-packages)\u001b[0m\u001b[33m\n",
      "\u001b[0m\u001b[33mWARNING: Ignoring invalid distribution - (/Users/alex/opt/anaconda3/lib/python3.7/site-packages)\u001b[0m\u001b[33m\n",
      "\u001b[0m\u001b[33mWARNING: Ignoring invalid distribution -ensorboard-reducer (/Users/alex/opt/anaconda3/lib/python3.7/site-packages)\u001b[0m\u001b[33m\n",
      "\u001b[0m"
     ]
    }
   ],
   "source": [
    "! pip install odfpy"
   ]
  },
  {
   "cell_type": "code",
   "execution_count": 16,
   "id": "f9907107",
   "metadata": {},
   "outputs": [],
   "source": [
    "from odf.opendocument import load\n",
    "doc = load(\"/Users/alex/Downloads/NewsEdits++ MTurk Instructions.odt\")"
   ]
  },
  {
   "cell_type": "code",
   "execution_count": 31,
   "id": "d85e8f91",
   "metadata": {},
   "outputs": [
    {
     "data": {
      "text/plain": [
       "<odf.opendocument.OpenDocument at 0x7fe64778dd10>"
      ]
     },
     "execution_count": 31,
     "metadata": {},
     "output_type": "execute_result"
    }
   ],
   "source": [
    "doc"
   ]
  },
  {
   "cell_type": "code",
   "execution_count": null,
   "id": "000cefea",
   "metadata": {},
   "outputs": [],
   "source": []
  },
  {
   "cell_type": "code",
   "execution_count": null,
   "id": "e65151f9",
   "metadata": {},
   "outputs": [],
   "source": []
  }
 ],
 "metadata": {
  "hide_input": false,
  "kernelspec": {
   "display_name": "Python 3",
   "language": "python",
   "name": "python3"
  },
  "language_info": {
   "codemirror_mode": {
    "name": "ipython",
    "version": 3
   },
   "file_extension": ".py",
   "mimetype": "text/x-python",
   "name": "python",
   "nbconvert_exporter": "python",
   "pygments_lexer": "ipython3",
   "version": "3.7.6"
  }
 },
 "nbformat": 4,
 "nbformat_minor": 5
}
